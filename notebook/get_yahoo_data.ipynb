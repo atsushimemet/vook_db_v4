{
 "cells": [
  {
   "cell_type": "markdown",
   "id": "9778c18d-f70d-4d4a-ab7b-7a204081f1ab",
   "metadata": {},
   "source": [
    "# Import"
   ]
  },
  {
   "cell_type": "code",
   "execution_count": 19,
   "id": "df16706f-f3eb-45fb-983c-0314fadcdbbe",
   "metadata": {},
   "outputs": [],
   "source": [
    "import sys\n",
    "\n",
    "sys.path.append(\"../\")\n",
    "import json\n",
    "\n",
    "import pandas as pd\n",
    "import requests\n",
    "\n",
    "from vook_db_v4.config import *"
   ]
  },
  {
   "cell_type": "markdown",
   "id": "522288d6-380f-48f2-9032-029bfb67e589",
   "metadata": {},
   "source": [
    "# Global"
   ]
  },
  {
   "cell_type": "code",
   "execution_count": 36,
   "id": "dbff3fd4-a391-45a3-add2-11b137546be4",
   "metadata": {},
   "outputs": [],
   "source": [
    "REQ_URL_CATE = \"https://shopping.yahooapis.jp/ShoppingWebService/V3/itemSearch\"\n",
    "\n",
    "WANT_ITEMS = [\n",
    "    \"itemCode\",\n",
    "    \"itemName\",\n",
    "    \"itemPrice\",\n",
    "    \"itemUrl\",\n",
    "]\n",
    "PLATFORM_ID = 2"
   ]
  },
  {
   "cell_type": "markdown",
   "id": "edbfcb02-f5d4-4ea6-9f9d-da86e47b97ad",
   "metadata": {},
   "source": [
    "# Main"
   ]
  },
  {
   "cell_type": "code",
   "execution_count": 11,
   "id": "660c44c3-4a03-48dd-ae09-7abc7670c35a",
   "metadata": {},
   "outputs": [],
   "source": [
    "query = \"リーバイス ヴィンテージ\""
   ]
  },
  {
   "cell_type": "code",
   "execution_count": 12,
   "id": "7f64502a-6e24-4d85-b7fe-33833c554f37",
   "metadata": {},
   "outputs": [],
   "source": [
    "params = {\n",
    "    \"appid\": ClientId,\n",
    "    \"output\": \"json\",\n",
    "    \"query\": query,\n",
    "    \"sort\": \"-price\",\n",
    "    \"affiliate_id\": aff_id,\n",
    "    \"affiliate_type\": \"vc\",\n",
    "    \"results\": 100,\n",
    "    \"start\": 101,\n",
    "}"
   ]
  },
  {
   "cell_type": "code",
   "execution_count": 13,
   "id": "059f6efb-7a5b-483f-a393-4185f14e46be",
   "metadata": {},
   "outputs": [],
   "source": [
    "df = pd.DataFrame(columns=WANT_ITEMS)"
   ]
  },
  {
   "cell_type": "code",
   "execution_count": 16,
   "id": "3e24fa08-8bdb-42c2-98f9-17a8b3f60be0",
   "metadata": {},
   "outputs": [],
   "source": [
    "res = requests.get(url=REQ_URL_CATE, params=params)"
   ]
  },
  {
   "cell_type": "code",
   "execution_count": 20,
   "id": "8c9ef307-8400-4c3d-b4e1-54f2dab89be2",
   "metadata": {},
   "outputs": [
    {
     "name": "stdout",
     "output_type": "stream",
     "text": [
      "Get Data\n"
     ]
    }
   ],
   "source": [
    "res_cd = res.status_code\n",
    "if res_cd != 200:\n",
    "    print(f\"ErrCd:{res_cd}\\nErr:{res['error']}\\nPage:{cnt}\")\n",
    "else:\n",
    "    res = json.loads(res.text)\n",
    "    if len(res[\"hits\"]) == 0:\n",
    "        print(\"If the number of returned items is 0, the loop ends.\")\n",
    "    print(f\"Get Data\")\n",
    "    l_hit = []\n",
    "    for h in res[\"hits\"]:\n",
    "        l_hit.append(\n",
    "            (\n",
    "                h[\"index\"],\n",
    "                h[\"name\"],\n",
    "                h[\"price\"],\n",
    "                h[\"url\"],\n",
    "            )\n",
    "        )\n",
    "    df = pd.DataFrame(l_hit, columns=WANT_ITEMS)"
   ]
  },
  {
   "cell_type": "code",
   "execution_count": 37,
   "id": "843b9351-45d2-4f25-a717-abde35101cc7",
   "metadata": {},
   "outputs": [],
   "source": [
    "product_id_list = []\n",
    "product_name_list = []\n",
    "platform_id_list = []\n",
    "for _, row in df.iterrows():\n",
    "    product_id_list.append(hashlib.md5(str(row[\"itemCode\"]).encode()).hexdigest())\n",
    "    product_name_list.append(row[\"itemName\"])\n",
    "    platform_id_list.append(PLATFORM_ID)"
   ]
  }
 ],
 "metadata": {
  "kernelspec": {
   "display_name": "Python 3 (ipykernel)",
   "language": "python",
   "name": "python3"
  },
  "language_info": {
   "codemirror_mode": {
    "name": "ipython",
    "version": 3
   },
   "file_extension": ".py",
   "mimetype": "text/x-python",
   "name": "python",
   "nbconvert_exporter": "python",
   "pygments_lexer": "ipython3",
   "version": "3.10.5"
  }
 },
 "nbformat": 4,
 "nbformat_minor": 5
}
