{
 "cells": [
  {
   "cell_type": "markdown",
   "id": "9778c18d-f70d-4d4a-ab7b-7a204081f1ab",
   "metadata": {},
   "source": [
    "# Import"
   ]
  },
  {
   "cell_type": "code",
   "execution_count": 65,
   "id": "df16706f-f3eb-45fb-983c-0314fadcdbbe",
   "metadata": {},
   "outputs": [],
   "source": [
    "import sys\n",
    "\n",
    "sys.path.append(\"../\")\n",
    "import datetime\n",
    "import json\n",
    "\n",
    "import pandas as pd\n",
    "import requests\n",
    "\n",
    "from vook_db_v4.config import *"
   ]
  },
  {
   "cell_type": "markdown",
   "id": "522288d6-380f-48f2-9032-029bfb67e589",
   "metadata": {},
   "source": [
    "# Global"
   ]
  },
  {
   "cell_type": "code",
   "execution_count": 2,
   "id": "dbff3fd4-a391-45a3-add2-11b137546be4",
   "metadata": {},
   "outputs": [],
   "source": [
    "REQ_URL_CATE = \"https://shopping.yahooapis.jp/ShoppingWebService/V3/itemSearch\"\n",
    "\n",
    "WANT_ITEMS = [\n",
    "    \"itemCode\",\n",
    "    \"itemName\",\n",
    "    \"itemPrice\",\n",
    "    \"itemUrl\",\n",
    "]\n",
    "PLATFORM_ID = 2"
   ]
  },
  {
   "cell_type": "markdown",
   "id": "edbfcb02-f5d4-4ea6-9f9d-da86e47b97ad",
   "metadata": {},
   "source": [
    "# Main"
   ]
  },
  {
   "cell_type": "code",
   "execution_count": 3,
   "id": "660c44c3-4a03-48dd-ae09-7abc7670c35a",
   "metadata": {},
   "outputs": [],
   "source": [
    "query = \"リーバイス ヴィンテージ\""
   ]
  },
  {
   "cell_type": "code",
   "execution_count": 61,
   "id": "aecda166-3c0c-469d-91bb-6c25e685d2c6",
   "metadata": {},
   "outputs": [
    {
     "name": "stdout",
     "output_type": "stream",
     "text": [
      "Get Data\n",
      "Get Data\n",
      "Get Data\n",
      "Get Data\n",
      "Get Data\n",
      "Get Data\n",
      "Get Data\n",
      "Get Data\n",
      "Get Data\n",
      "Bad request\n"
     ]
    }
   ],
   "source": [
    "params = {\n",
    "    \"appid\": ClientId,\n",
    "    \"output\": \"json\",\n",
    "    \"query\": query,\n",
    "    \"sort\": \"-price\",\n",
    "    \"affiliate_id\": aff_id,\n",
    "    \"affiliate_type\": \"vc\",\n",
    "    \"results\": 100,  # NOTE: 100個ずつしか取得できない。\n",
    "}\n",
    "\n",
    "start_num = 1\n",
    "step = 100\n",
    "max_products = 1000\n",
    "l_df = []\n",
    "for inc in range(0, max_products, step):\n",
    "    params[\"start\"] = start_num + inc\n",
    "    df = pd.DataFrame(columns=WANT_ITEMS)\n",
    "    res = requests.get(url=REQ_URL_CATE, params=params)\n",
    "    res_cd = res.status_code\n",
    "    if res_cd != 200:\n",
    "        print(f\"Bad request\")\n",
    "        break\n",
    "    else:\n",
    "        res = json.loads(res.text)\n",
    "        if len(res[\"hits\"]) == 0:\n",
    "            print(\"If the number of returned items is 0, the loop ends.\")\n",
    "        print(f\"Get Data\")\n",
    "        l_hit = []\n",
    "        for h in res[\"hits\"]:\n",
    "            l_hit.append(\n",
    "                (\n",
    "                    h[\"index\"],\n",
    "                    h[\"name\"],\n",
    "                    h[\"price\"],\n",
    "                    h[\"url\"],\n",
    "                )\n",
    "            )\n",
    "        df = pd.DataFrame(l_hit, columns=WANT_ITEMS)\n",
    "        l_df.append(df)"
   ]
  },
  {
   "cell_type": "code",
   "execution_count": 69,
   "id": "7eafdf38-fd02-4e32-9503-0582946c9738",
   "metadata": {
    "tags": []
   },
   "outputs": [],
   "source": [
    "run_time = datetime.datetime.today().strftime(\"%Y%m%d_%H%M%S\")\n",
    "pd.concat(l_df, axis=0, ignore_index=True).to_csv(f\"../data/output/{run_time}_for_issue_11.csv\", index=False)"
   ]
  },
  {
   "cell_type": "code",
   "execution_count": 37,
   "id": "843b9351-45d2-4f25-a717-abde35101cc7",
   "metadata": {},
   "outputs": [],
   "source": [
    "product_id_list = []\n",
    "product_name_list = []\n",
    "platform_id_list = []\n",
    "for _, row in df.iterrows():\n",
    "    product_id_list.append(hashlib.md5(str(row[\"itemCode\"]).encode()).hexdigest())\n",
    "    product_name_list.append(row[\"itemName\"])\n",
    "    platform_id_list.append(PLATFORM_ID)"
   ]
  }
 ],
 "metadata": {
  "kernelspec": {
   "display_name": "Python 3 (ipykernel)",
   "language": "python",
   "name": "python3"
  },
  "language_info": {
   "codemirror_mode": {
    "name": "ipython",
    "version": 3
   },
   "file_extension": ".py",
   "mimetype": "text/x-python",
   "name": "python",
   "nbconvert_exporter": "python",
   "pygments_lexer": "ipython3",
   "version": "3.10.5"
  }
 },
 "nbformat": 4,
 "nbformat_minor": 5
}
