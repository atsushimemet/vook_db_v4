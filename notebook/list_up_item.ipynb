{
 "cells": [
  {
   "cell_type": "markdown",
   "id": "62294597-1679-4ed5-bbbe-ec85271754c8",
   "metadata": {},
   "source": [
    "# Import"
   ]
  },
  {
   "cell_type": "code",
   "execution_count": 2,
   "id": "cf69206b-b9c3-494a-b776-835dde9fdd4c",
   "metadata": {
    "tags": []
   },
   "outputs": [],
   "source": [
    "import re\n",
    "import sys\n",
    "from pathlib import Path\n",
    "\n",
    "import pandas as pd\n",
    "\n",
    "sys.path.append(\"../\")\n",
    "from vook_db_v4.extract_decades import *\n",
    "from vook_db_v4.validates import *"
   ]
  },
  {
   "cell_type": "markdown",
   "id": "04b8eb75-3e81-49f3-902b-720eada5439d",
   "metadata": {},
   "source": [
    "# Global"
   ]
  },
  {
   "cell_type": "code",
   "execution_count": 3,
   "id": "99e0ceb5-58f8-4122-a814-9a54d9ad4134",
   "metadata": {
    "tags": []
   },
   "outputs": [],
   "source": [
    "OUTPUT_PATH = Path(\"../data/output/\")\n",
    "file_name = \"20230430_132941_for_issue_11.csv\""
   ]
  },
  {
   "cell_type": "markdown",
   "id": "99012a11-7f23-4305-819a-a5051cdb1ec8",
   "metadata": {},
   "source": [
    "# Main"
   ]
  },
  {
   "cell_type": "code",
   "execution_count": 4,
   "id": "1e4b068c-2bc8-4646-b892-e9b0b2dab598",
   "metadata": {
    "tags": []
   },
   "outputs": [],
   "source": [
    "item_names = pd.read_csv(OUTPUT_PATH / file_name)[\"itemName\"]"
   ]
  },
  {
   "cell_type": "code",
   "execution_count": 6,
   "id": "3479d231-3e78-430a-aa21-c91f137a9129",
   "metadata": {
    "tags": []
   },
   "outputs": [
    {
     "data": {
      "text/plain": [
       "[\"Levi's,リーバイス,1950~60年代,Levi's Vintage Big Poster,ヴィンテージビッグポスター,広告用,ビンテージ,ビッグサイズ\",\n",
       " 'リーバイス 40s VINTAGE 501XX 革パッチ 片面タブ デニムパンツ ヴィンテージ インディゴ',\n",
       " \"リーバイス ジージャン Ｇジャン Levi's 米国製 70579 バレンシア工場製造 リジッド デニムジャケット MADE IN THE USA\",\n",
       " \"リーバイス ジージャン LEVI'S 復刻 ヴィンテージ 3rd 米国製バレンシア刻印555 48 MADE IN THE USA\",\n",
       " \"リーバイス ジージャン Ｇジャン LEVI'S 復刻 ヴィンテージ 3rd 米国製バレンシア刻印555 44 MADE IN THE USA\",\n",
       " '銀座店 リーバイス ヴィンテージ 517 デニム ジャケット オリジナル  size:フリー',\n",
       " '銀座店 美品 リーバイス ヴィンテージ 501 BIGE W38 L32 デニム パンツ',\n",
       " 'リーバイス ビンテージ 復刻 ジージャン Ｇジャン 日本製 7701SXX サイズ40 L TYPE1',\n",
       " 'リーバイス 501xx 501 ビンテージ 復刻 1st BLUE JEAN 1873モデル W36 36インチ',\n",
       " \"Levi's,リーバイス,1987年,One Levi's Neon Sign,ワンリーバイスネオンサイン,ネオン管,Dead Stock,デッドストック,ヴィンテージ/ビンテージ\",\n",
       " \"リーバイス Levi's 40's 50's 501XX 47モデル デニムパンツ ジーンズ 片面タブ 革パッチ ビッグE ヴィンテージ オリジナル W35\",\n",
       " 'リーバイス 501XX ビンテージ アメリカ製 復刻 1906モデル W34インチ ダメージジーンズ',\n",
       " \"リーバイス ジージャン Ｇジャン LEVI'S 米国製 70579 バレンシア555 リジッド 復刻\",\n",
       " 'リーバイス 503BSXX 日本製 復刻 ビンテージ W29インチ ジーンズ',\n",
       " 'リーバイス アメリカ製 ビンテージ 501XX 1937モデル W32インチ ダメージジーンズ',\n",
       " 'リーバイス 501XX ビンテージ アメリカ製 復刻 1906モデル W34インチ ダメージジーンズ',\n",
       " 'リーバイス アメリカ製 ビンテージ 501XX 1937モデル W32インチ ダメージジーンズ',\n",
       " \"古着 希少レア 50~60年代 リーバイス Levi's 507XX セカンド 2nd デニムジャケット Gジャン メンズS~M ヴィンテージ /eaa212179\",\n",
       " \"古着 50〜60年代 リーバイス Levi's 507XX セカンド 2nd デニムジャケット Gジャン メンズS レディースL ヴィンテージ /eaa238375\",\n",
       " \"リーバイス 70s 501 66前期 BIGE ストレート デニムパンツ W31 Levi's ボタンフライ ヴィンテージ メンズ 古着 R221208\",\n",
       " \"希少レア 50年代 リーバイス Levi's 507XX セカンド 2nd 紙パッチ デニムジャケット Gジャン メンズS ヴィンテージ /eva000169\",\n",
       " 'リーバイス 50s-60s VINTAGE 501XX ギャラ無し ボタン裏J デニムパンツ ヴィンテージ インディゴ',\n",
       " \"縦落ち ヒゲ 色落ち良好 60年代 リーバイス Levi's 501 BIG E ビッグE ジーンズ ストレートデニムパンツ メンズw41 /eva000315\",\n",
       " \"リーバイス 60s 501XX Vステッチ BIG E ヴィンテージ ギャラ入り ストレート デニムパンツ Levi's ジーパン 赤耳 メンズ 古着 230419\",\n",
       " 'リーバイス 50s VINTAGE 501XX 革パッチ 両面タブ BIG E デニムパンツ ヴィンテージ インディゴ',\n",
       " \"リーバイス 60s 558 デニムジャケット Levi's ボタン裏D ヴィンテージ メンズ 古着 200831\",\n",
       " \"60's Vintage LEVIS ヴィンテージリーバイス505 BIGE\\u3000W35希少\",\n",
       " \"Levi's / リーバイス | Vintage / ヴィンテージ 1937 モデル 501XX オリジナル 1936-1941 片面Big E\",\n",
       " 'リーバイス 501xx 501 ビンテージ 復刻 1906モデル W34 34インチ ダメージジーンズ',\n",
       " 'リーバイス 501xx 501 ビンテージ 復刻 1st BLUE JEAN 1873モデル W38 38インチ']"
      ]
     },
     "execution_count": 6,
     "metadata": {},
     "output_type": "execute_result"
    }
   ],
   "source": [
    "item_names.tolist()[:30]"
   ]
  }
 ],
 "metadata": {
  "kernelspec": {
   "display_name": "Python 3 (ipykernel)",
   "language": "python",
   "name": "python3"
  },
  "language_info": {
   "codemirror_mode": {
    "name": "ipython",
    "version": 3
   },
   "file_extension": ".py",
   "mimetype": "text/x-python",
   "name": "python",
   "nbconvert_exporter": "python",
   "pygments_lexer": "ipython3",
   "version": "3.10.5"
  }
 },
 "nbformat": 4,
 "nbformat_minor": 5
}
