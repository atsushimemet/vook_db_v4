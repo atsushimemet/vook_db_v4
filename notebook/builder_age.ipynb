{
 "cells": [
  {
   "cell_type": "markdown",
   "id": "908c14e8-eb55-4731-968f-e7469e3e8a69",
   "metadata": {},
   "source": [
    "# Import"
   ]
  },
  {
   "cell_type": "code",
   "execution_count": 63,
   "id": "314a47ad-ea3c-4390-a3c3-15c6ab16d4fe",
   "metadata": {
    "tags": []
   },
   "outputs": [],
   "source": [
    "import re\n",
    "from pathlib import Path\n",
    "\n",
    "import pandas as pd"
   ]
  },
  {
   "cell_type": "markdown",
   "id": "82914c81-fd52-4db6-bd77-299d807a68f2",
   "metadata": {},
   "source": [
    "# Global"
   ]
  },
  {
   "cell_type": "code",
   "execution_count": 9,
   "id": "0b05fa7c-58fd-493e-98e5-edb93dc30bff",
   "metadata": {
    "tags": []
   },
   "outputs": [],
   "source": [
    "OUTPUT_PATH = Path(\"../data/output/\")\n",
    "file_name = \"20230430_132941_for_issue_11.csv\""
   ]
  },
  {
   "cell_type": "markdown",
   "id": "190a435e-0cf3-4d6e-8797-388e393d980c",
   "metadata": {},
   "source": [
    "# Functions"
   ]
  },
  {
   "cell_type": "code",
   "execution_count": 275,
   "id": "02fe7d53-c519-4813-85a8-9a907788f6ed",
   "metadata": {
    "tags": []
   },
   "outputs": [],
   "source": [
    "def extract_decades_both_pat_1(item_name: str):\n",
    "    match = re.search(r\"\\s19\\d{2}~\\d{2}年代\\s|,19\\d{2}~\\d{2}年代,\", item_name)\n",
    "    if match:\n",
    "        start = match.group().split(\"~\")[0].replace(\",\", \"\").strip()\n",
    "        end = (\n",
    "            \"19\"\n",
    "            + match.group().split(\"~\")[1].replace(\"年代\", \"\").replace(\",\", \"\").strip()\n",
    "        )\n",
    "        return (start, end)\n",
    "    else:\n",
    "        return None\n",
    "\n",
    "\n",
    "def extract_decades_both_pat_2(item_name: str):\n",
    "    match = re.search(r\"\\s\\d{2}'s\\s\\d{2}'s\\s\", item_name)\n",
    "    if match:\n",
    "        start = \"19\" + match.group().split(\" \")[1].replace(\"'s\", \"\")\n",
    "        end = \"19\" + match.group().split(\" \")[2].replace(\"'s\", \"\")\n",
    "        return (start, end)\n",
    "    else:\n",
    "        return None\n",
    "\n",
    "\n",
    "def extract_decades_both_pat_3(item_name: str):\n",
    "    match = re.search(r\"\\s\\d{2}~\\d{2}年代\\s\", item_name)\n",
    "    if match:\n",
    "        start = \"19\" + match.group().split(\"~\")[0].strip()\n",
    "        end = \"19\" + match.group().split(\"~\")[1].replace(\"年代\", \"\").strip()\n",
    "        return (start, end)\n",
    "    else:\n",
    "        return None\n",
    "\n",
    "\n",
    "def extract_decades_both_pat_4(item_name: str):\n",
    "    match = re.search(r\"\\s\\d{2}s-\\d{2}s\\s\", item_name)\n",
    "    if match:\n",
    "        start = \"19\" + match.group().split(\"-\")[0].replace(\"s\", \"\").strip()\n",
    "        end = \"19\" + match.group().split(\"-\")[1].replace(\"s\", \"\").strip()\n",
    "        return (start, end)\n",
    "    else:\n",
    "        return None\n",
    "\n",
    "\n",
    "def extract_decades_both_pat_5(item_name: str):\n",
    "    match = re.search(r\"\\s\\d{4}-\\d{4}\\s\", item_name)\n",
    "    if match:\n",
    "        start = match.group().split(\"-\")[0].strip()\n",
    "        end = match.group().split(\"-\")[1].strip()\n",
    "        return (start, end)\n",
    "    else:\n",
    "        return None\n",
    "\n",
    "\n",
    "def extract_decades_only_pat_1(item_name: str):\n",
    "    match = re.search(r\"\\s\\d{2}s\\s\", item_name)\n",
    "    if match:\n",
    "        start = end = \"19\" + match.group().replace(\"s\", \"\").strip()\n",
    "        return (start, end)\n",
    "    else:\n",
    "        return None\n",
    "\n",
    "\n",
    "def extract_decades_only_pat_2(item_name: str):\n",
    "    match = re.search(r\"\\s\\d{2}年代\\s\", item_name)\n",
    "    if match:\n",
    "        start = end = \"19\" + match.group().replace(\"年代\", \"\").strip()\n",
    "        return (start, end)\n",
    "    else:\n",
    "        return None\n",
    "\n",
    "\n",
    "def extract_decades_only_pat_3(item_name: str):\n",
    "    match = re.search(r\"\\s\\d{2}'s\\s\", item_name)\n",
    "    if match:\n",
    "        start = end = \"19\" + match.group().replace(\"'s\", \"\").strip()\n",
    "        return (start, end)\n",
    "    else:\n",
    "        return None\n",
    "\n",
    "\n",
    "def extract_decades_only_pat_4(item_name: str):\n",
    "    match = re.search(r\"\\s\\d{2}’s\\s\", item_name)\n",
    "    if match:\n",
    "        start = end = \"19\" + match.group().replace(\"’s\", \"\").strip()\n",
    "        return (start, end)\n",
    "    else:\n",
    "        return None\n",
    "\n",
    "\n",
    "def extract_decades_only_pat_5(item_name: str):\n",
    "    match = re.search(r\"\\s\\d{2}S\\s\", item_name)\n",
    "    if match:\n",
    "        start = end = \"19\" + match.group().replace(\"S\", \"\").strip()\n",
    "        return (start, end)\n",
    "    else:\n",
    "        return None"
   ]
  },
  {
   "cell_type": "markdown",
   "id": "c2c7211a-28c5-4fdc-bf01-79eb99579f91",
   "metadata": {},
   "source": [
    "# Main"
   ]
  },
  {
   "cell_type": "code",
   "execution_count": 276,
   "id": "d3316c38-9c01-436d-b8fe-49512839c53e",
   "metadata": {
    "tags": []
   },
   "outputs": [],
   "source": [
    "func_list = [\n",
    "    extract_decades_both_pat_1,\n",
    "    extract_decades_both_pat_2,\n",
    "    extract_decades_both_pat_3,\n",
    "    extract_decades_both_pat_4,\n",
    "    extract_decades_both_pat_5,\n",
    "    extract_decades_only_pat_1,\n",
    "    extract_decades_only_pat_2,\n",
    "    extract_decades_only_pat_3,\n",
    "    extract_decades_only_pat_4,\n",
    "    extract_decades_only_pat_5,\n",
    "]"
   ]
  },
  {
   "cell_type": "code",
   "execution_count": 277,
   "id": "170195e1-67c1-47ce-9967-caf3fe196924",
   "metadata": {
    "tags": []
   },
   "outputs": [],
   "source": [
    "item_names = pd.read_csv(OUTPUT_PATH / file_name)[\"itemName\"]"
   ]
  },
  {
   "cell_type": "code",
   "execution_count": 282,
   "id": "b6597ad6-f593-44e3-a5df-135ca4c7a538",
   "metadata": {
    "tags": []
   },
   "outputs": [],
   "source": [
    "l_decades = []\n",
    "for i, item_name in enumerate(item_names):\n",
    "    for func in func_list:\n",
    "        if func(item_name):\n",
    "            ret = func(item_name)\n",
    "            break\n",
    "        else:\n",
    "            continue\n",
    "    # 不正な値が入っている場合は、item_nameとretと適用された関数を表示する。\n",
    "    if not ret[0].startswith(\"19\") or not ret[1].startswith(\"19\"):\n",
    "        raise Exception(f\"\\nitem_name: {item_name}\\nvalue: {ret}\\nfuncions: {func}\")\n",
    "    if not re.fullmatch(r\"19\\d{2}\", ret[0]) or not re.fullmatch(r\"19\\d{2}\", ret[1]):\n",
    "        raise Exception(f\"\\nitem_name: {item_name}\\nvalue: {ret}\\nfuncions: {func}\")\n",
    "    # 出力\n",
    "    if ret:\n",
    "        l_decades.append(ret)\n",
    "    else:\n",
    "        l_decades.append(None)"
   ]
  }
 ],
 "metadata": {
  "kernelspec": {
   "display_name": "Python 3 (ipykernel)",
   "language": "python",
   "name": "python3"
  },
  "language_info": {
   "codemirror_mode": {
    "name": "ipython",
    "version": 3
   },
   "file_extension": ".py",
   "mimetype": "text/x-python",
   "name": "python",
   "nbconvert_exporter": "python",
   "pygments_lexer": "ipython3",
   "version": "3.10.5"
  }
 },
 "nbformat": 4,
 "nbformat_minor": 5
}
