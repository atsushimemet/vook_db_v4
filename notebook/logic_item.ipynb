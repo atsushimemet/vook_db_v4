{
 "cells": [
  {
   "cell_type": "markdown",
   "id": "1f8adaa8-6022-423e-a304-9aef602c2e04",
   "metadata": {},
   "source": [
    "# Import"
   ]
  },
  {
   "cell_type": "code",
   "execution_count": 1,
   "id": "404d40d9-5ef1-43ae-a020-a2725613b1ab",
   "metadata": {
    "tags": []
   },
   "outputs": [],
   "source": [
    "import re\n",
    "import sys\n",
    "from pathlib import Path\n",
    "\n",
    "import pandas as pd\n",
    "\n",
    "sys.path.append(\"../\")\n",
    "from vook_db_v4.extract_decades import *\n",
    "from vook_db_v4.validates import *"
   ]
  },
  {
   "cell_type": "markdown",
   "id": "0f1a980e-8f26-456f-b33a-07b831b48ff6",
   "metadata": {},
   "source": [
    "# Global"
   ]
  },
  {
   "cell_type": "code",
   "execution_count": 2,
   "id": "88911432-af3a-40cd-b4e6-292982ce1a0b",
   "metadata": {
    "tags": []
   },
   "outputs": [],
   "source": [
    "OUTPUT_PATH = Path(\"../data/output/\")\n",
    "file_name = \"20230430_132941_for_issue_11.csv\""
   ]
  },
  {
   "cell_type": "markdown",
   "id": "d8a78d8a-a34b-42b6-9cba-7e05c6dbc01d",
   "metadata": {},
   "source": [
    "# Main"
   ]
  },
  {
   "cell_type": "code",
   "execution_count": 3,
   "id": "c0597afe-4a47-4cd5-988d-2d6600e5daa7",
   "metadata": {
    "tags": []
   },
   "outputs": [],
   "source": [
    "item_names = pd.read_csv(OUTPUT_PATH / file_name)[\"itemName\"]"
   ]
  },
  {
   "cell_type": "code",
   "execution_count": 26,
   "id": "7cd53c35-9e29-44ed-9c7b-b206469f367d",
   "metadata": {
    "tags": []
   },
   "outputs": [],
   "source": [
    "def extract_item_denim(item_name: str):\n",
    "    match = re.search(r\"デニムパンツ|デニム\\sパンツ|デニム パンツ|ジーパン\", item_name)\n",
    "    if match:\n",
    "        return \"denim\"\n",
    "    else:\n",
    "        return None\n",
    "\n",
    "\n",
    "def extract_item_denim_jacket(item_name: str):\n",
    "    match = re.search(r\"ジージャン|Ｇジャン|デニムジャケット|デニム ジャケット\", item_name)\n",
    "    if match:\n",
    "        return \"denim jacket\"\n",
    "    else:\n",
    "        return None"
   ]
  },
  {
   "cell_type": "code",
   "execution_count": 27,
   "id": "a63cd7d3-cd33-4e5b-9551-c97289454e78",
   "metadata": {
    "tags": []
   },
   "outputs": [],
   "source": [
    "# # denimを返す\n",
    "# # 1. デニムパンツ, デニム パンツ, デニム パンツ, ジーパンいずれかが含まれている商品名が入力された場合、denimを出力する関数を作成\n",
    "# for item_name in item_names:\n",
    "#     print(extract_item_denim(item_name))"
   ]
  },
  {
   "cell_type": "code",
   "execution_count": 35,
   "id": "7a535ef3-949e-44e7-a8e9-ff94092c4f34",
   "metadata": {
    "tags": []
   },
   "outputs": [],
   "source": [
    "extract_item_denim(\n",
    "    \"Levi's,リーバイス,1950~60年代,Levi's Vintage Big Poster,ヴィンテージビッグポスター,広告用,ビンテージ,ビッグサイズ\"\n",
    ")"
   ]
  },
  {
   "cell_type": "code",
   "execution_count": 44,
   "id": "4e665937-fec4-4c9f-b80a-0253f3723702",
   "metadata": {
    "tags": []
   },
   "outputs": [],
   "source": [
    "l_extracted = []\n",
    "extract_func_list = [extract_item_denim, extract_item_denim_jacket]\n",
    "for i, item_name in enumerate(item_names):\n",
    "    for func in extract_func_list:\n",
    "        if func(item_name):\n",
    "            ret = func(item_name)\n",
    "            break\n",
    "        else:\n",
    "            continue\n",
    "    # # 不正な値が入っている場合は、item_nameとretと適用された関数を表示する。\n",
    "    # self.validate_func(ret, item_name, func)\n",
    "    try:\n",
    "        ret\n",
    "    except NameError:\n",
    "        ret = None\n",
    "    # 出力\n",
    "    if ret:\n",
    "        l_extracted.append(ret)\n",
    "    else:\n",
    "        l_extracted.append(None)"
   ]
  },
  {
   "cell_type": "code",
   "execution_count": 47,
   "id": "143d8411-71b6-407e-b511-9fbe5b85f183",
   "metadata": {
    "tags": []
   },
   "outputs": [],
   "source": [
    "def test_valid_match(item_name, func):\n",
    "    actual = func(item_name)\n",
    "    expected = \"denim\"\n",
    "    assert actual == expected\n",
    "\n",
    "\n",
    "item_name = \"リーバイス 40s VINTAGE 501XX 革パッチ 片面タブ デニムパンツ ヴィンテージ インディゴ\"\n",
    "test_valid_match(item_name, extract_item_denim)\n",
    "\n",
    "\n",
    "def test_valid_not_match(item_name, func):\n",
    "    actual = func(item_name)\n",
    "    expected = None\n",
    "    assert actual == expected\n",
    "\n",
    "\n",
    "item_name = (\n",
    "    \"Levi's,リーバイス,1950~60年代,Levi's Vintage Big Poster,ヴィンテージビッグポスター,広告用,ビンテージ,ビッグサイズ\"\n",
    ")\n",
    "test_valid_not_match(item_name, extract_item_denim)"
   ]
  },
  {
   "cell_type": "code",
   "execution_count": 51,
   "id": "ee60a9e2-f7e4-4f88-9013-d905dc3bfc11",
   "metadata": {
    "tags": []
   },
   "outputs": [],
   "source": [
    "def test_valid_match(item_name, func):\n",
    "    actual = func(item_name)\n",
    "    expected = \"denim jacket\"\n",
    "    assert actual == expected\n",
    "\n",
    "\n",
    "item_name = \"リーバイス ジージャン Ｇジャン Levi's 米国製 70579 バレンシア工場製造 リジッド デニムジャケット MADE IN THE USA\"\n",
    "test_valid_match(item_name, extract_item_denim_jacket)\n",
    "\n",
    "\n",
    "def test_valid_not_match(item_name, func):\n",
    "    actual = func(item_name)\n",
    "    expected = None\n",
    "    assert actual == expected\n",
    "\n",
    "\n",
    "item_name = (\n",
    "    \"Levi's,リーバイス,1950~60年代,Levi's Vintage Big Poster,ヴィンテージビッグポスター,広告用,ビンテージ,ビッグサイズ\"\n",
    ")\n",
    "test_valid_not_match(item_name, extract_item_denim_jacket)"
   ]
  }
 ],
 "metadata": {
  "kernelspec": {
   "display_name": "Python 3 (ipykernel)",
   "language": "python",
   "name": "python3"
  },
  "language_info": {
   "codemirror_mode": {
    "name": "ipython",
    "version": 3
   },
   "file_extension": ".py",
   "mimetype": "text/x-python",
   "name": "python",
   "nbconvert_exporter": "python",
   "pygments_lexer": "ipython3",
   "version": "3.10.5"
  }
 },
 "nbformat": 4,
 "nbformat_minor": 5
}
